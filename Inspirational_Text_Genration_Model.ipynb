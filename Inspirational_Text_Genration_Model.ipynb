{
  "nbformat": 4,
  "nbformat_minor": 0,
  "metadata": {
    "colab": {
      "name": "Inspirational Text Genration Model",
      "provenance": [],
      "collapsed_sections": [],
      "toc_visible": true,
      "include_colab_link": true
    },
    "kernelspec": {
      "name": "python3",
      "display_name": "Python 3"
    },
    "accelerator": "GPU"
  },
  "cells": [
    {
      "cell_type": "markdown",
      "metadata": {
        "id": "view-in-github",
        "colab_type": "text"
      },
      "source": [
        "<a href=\"https://colab.research.google.com/github/vinnyvalenz/Inspirational-Quote-Generator/blob/RBasu/Inspirational_Text_Genration_Model.ipynb\" target=\"_parent\"><img src=\"https://colab.research.google.com/assets/colab-badge.svg\" alt=\"Open In Colab\"/></a>"
      ]
    },
    {
      "cell_type": "markdown",
      "metadata": {
        "id": "H7LoMj4GA4n_"
      },
      "source": [
        "Import required GPT-2 Libraries"
      ]
    },
    {
      "cell_type": "code",
      "metadata": {
        "id": "KBkpRgBCBS2_",
        "colab": {
          "base_uri": "https://localhost:8080/"
        },
        "outputId": "298b6b66-f69f-40cd-d971-21eadbfe8fc1"
      },
      "source": [
        "\n",
        "%tensorflow_version 1.x\n",
        "!pip install -q gpt-2-simple\n",
        "import gpt_2_simple as gpt2\n",
        "from datetime import datetime\n",
        "from google.colab import files"
      ],
      "execution_count": 1,
      "outputs": [
        {
          "output_type": "stream",
          "text": [
            "TensorFlow 1.x selected.\n",
            "  Building wheel for gpt-2-simple (setup.py) ... \u001b[?25l\u001b[?25hdone\n",
            "WARNING:tensorflow:\n",
            "The TensorFlow contrib module will not be included in TensorFlow 2.0.\n",
            "For more information, please see:\n",
            "  * https://github.com/tensorflow/community/blob/master/rfcs/20180907-contrib-sunset.md\n",
            "  * https://github.com/tensorflow/addons\n",
            "  * https://github.com/tensorflow/io (for I/O related ops)\n",
            "If you depend on functionality not listed there, please file an issue.\n",
            "\n"
          ],
          "name": "stdout"
        }
      ]
    },
    {
      "cell_type": "markdown",
      "metadata": {
        "id": "0wXB05bPDYxS"
      },
      "source": [
        "## Downloading GPT-2\n",
        "\n",
        "\n",
        "Download prefered GPT2 Model Size"
      ]
    },
    {
      "cell_type": "code",
      "metadata": {
        "id": "P8wSlgXoDPCR",
        "colab": {
          "base_uri": "https://localhost:8080/"
        },
        "outputId": "92cdff21-0fee-49a8-caa6-1e9275142024"
      },
      "source": [
        "\n",
        "gpt2.download_gpt2(model_name=\"124M\")"
      ],
      "execution_count": null,
      "outputs": [
        {
          "output_type": "stream",
          "text": [
            "Fetching checkpoint: 1.05Mit [00:00, 189Mit/s]                                                      \n",
            "Fetching encoder.json: 1.05Mit [00:01, 831kit/s]\n",
            "Fetching hparams.json: 1.05Mit [00:00, 330Mit/s]                                                    \n",
            "Fetching model.ckpt.data-00000-of-00001: 498Mit [06:29, 1.28Mit/s]\n",
            "Fetching model.ckpt.index: 1.05Mit [00:00, 378Mit/s]                                                \n",
            "Fetching model.ckpt.meta: 1.05Mit [00:00, 1.16Mit/s]\n",
            "Fetching vocab.bpe: 1.05Mit [00:00, 1.14Mit/s]\n"
          ],
          "name": "stderr"
        }
      ]
    },
    {
      "cell_type": "markdown",
      "metadata": {
        "id": "N8KXuKWzQSsN"
      },
      "source": [
        "## Mounting Google Drive\n",
        "\n"
      ]
    },
    {
      "cell_type": "code",
      "metadata": {
        "id": "puq4iC6vUAHc",
        "colab": {
          "base_uri": "https://localhost:8080/"
        },
        "outputId": "9abfa867-009a-4701-968e-8d70b3a44117"
      },
      "source": [
        "gpt2.mount_gdrive()"
      ],
      "execution_count": null,
      "outputs": [
        {
          "output_type": "stream",
          "text": [
            "Drive already mounted at /content/drive; to attempt to forcibly remount, call drive.mount(\"/content/drive\", force_remount=True).\n"
          ],
          "name": "stdout"
        }
      ]
    },
    {
      "cell_type": "code",
      "metadata": {
        "id": "6OFnPCLADfll"
      },
      "source": [
        "file_name = \"Motivational-Quotes-Database.csv\""
      ],
      "execution_count": null,
      "outputs": []
    },
    {
      "cell_type": "markdown",
      "metadata": {
        "id": "HeeSKtNWUedE"
      },
      "source": [
        ""
      ]
    },
    {
      "cell_type": "code",
      "metadata": {
        "id": "-Z6okFD8VKtS"
      },
      "source": [
        "gpt2.copy_file_from_gdrive(file_name)"
      ],
      "execution_count": null,
      "outputs": []
    },
    {
      "cell_type": "markdown",
      "metadata": {
        "id": "LdpZQXknFNY3"
      },
      "source": [
        "FINE TUNING\n",
        "\n",
        "\n",
        "*  **`restore_from`**: Set to `fresh` to start training from the base GPT-2, or set to `latest` to restart training from an existing checkpoint.\n",
        "* **`sample_every`**: Number of steps to print example output\n",
        "* **`print_every`**: Number of steps to print training progress.\n",
        "* **`learning_rate`**:  Learning rate for the training. (default `1e-4`, can lower to `1e-5` if you have <1MB input data)\n",
        "*  **`run_name`**: subfolder within `checkpoint` to save the model. This is useful if you want to work with multiple models (will also need to specify  `run_name` when loading the model)\n",
        "* **`overwrite`**: Set to `True` if you want to continue finetuning an existing model (w/ `restore_from='latest'`) without creating duplicate copies. "
      ]
    },
    {
      "cell_type": "markdown",
      "metadata": {
        "id": "lhi1Roz7XFaX"
      },
      "source": [
        "Model Size: 124M: Default Learning Rate\n"
      ]
    },
    {
      "cell_type": "code",
      "metadata": {
        "id": "aeXshJM-Cuaf",
        "colab": {
          "base_uri": "https://localhost:8080/"
        },
        "outputId": "d6e47737-1494-4e00-c88f-de4228de88d1"
      },
      "source": [
        "sess = gpt2.start_tf_sess()\n",
        "\n",
        "gpt2.finetune(sess,\n",
        "              dataset=file_name,\n",
        "              model_name='124M',\n",
        "              steps=1000,\n",
        "              restore_from='fresh',\n",
        "              run_name='run1',\n",
        "              print_every=10,\n",
        "              sample_every=200,\n",
        "              save_every=500\n",
        "              )"
      ],
      "execution_count": null,
      "outputs": [
        {
          "output_type": "stream",
          "text": [
            "WARNING:tensorflow:From /usr/local/lib/python3.7/dist-packages/gpt_2_simple/src/sample.py:17: where (from tensorflow.python.ops.array_ops) is deprecated and will be removed in a future version.\n",
            "Instructions for updating:\n",
            "Use tf.where in 2.0, which has the same broadcast rule as np.where\n",
            "Loading checkpoint models/124M/model.ckpt\n",
            "INFO:tensorflow:Restoring parameters from models/124M/model.ckpt\n"
          ],
          "name": "stdout"
        },
        {
          "output_type": "stream",
          "text": [
            "100%|██████████| 1/1 [00:00<00:00,  6.98it/s]"
          ],
          "name": "stderr"
        },
        {
          "output_type": "stream",
          "text": [
            "Loading dataset...\n"
          ],
          "name": "stdout"
        },
        {
          "output_type": "stream",
          "text": [
            "\n"
          ],
          "name": "stderr"
        },
        {
          "output_type": "stream",
          "text": [
            "dataset has 2302654 tokens\n",
            "Training...\n",
            "[10 | 13.76] loss=2.68 avg=2.68\n",
            "[20 | 21.48] loss=2.34 avg=2.51\n",
            "[30 | 29.26] loss=2.45 avg=2.49\n",
            "[40 | 37.05] loss=2.38 avg=2.46\n",
            "[50 | 44.82] loss=2.39 avg=2.45\n",
            "[60 | 52.64] loss=2.35 avg=2.43\n",
            "[70 | 60.46] loss=2.57 avg=2.45\n",
            "[80 | 68.31] loss=2.23 avg=2.42\n",
            "[90 | 76.16] loss=2.56 avg=2.44\n",
            "[100 | 84.00] loss=2.41 avg=2.44\n",
            "[110 | 91.83] loss=2.25 avg=2.42\n",
            "[120 | 99.70] loss=2.33 avg=2.41\n",
            "[130 | 107.51] loss=2.19 avg=2.39\n",
            "[140 | 115.40] loss=2.31 avg=2.39\n",
            "[150 | 123.30] loss=2.31 avg=2.38\n",
            "[160 | 131.07] loss=2.40 avg=2.38\n",
            "[170 | 138.91] loss=2.35 avg=2.38\n",
            "[180 | 146.74] loss=2.45 avg=2.38\n",
            "[190 | 154.58] loss=2.34 avg=2.38\n",
            "[200 | 162.37] loss=2.35 avg=2.38\n",
            "======== SAMPLE 1 ========\n",
            "<>You must first give your heart to God.<|endoftext|>\n",
            "<|startoftext|>Let us hope that our children will have faith in the Creator. Let us strive to learn to trust in Him.<|endoftext|>\n",
            "<|startoftext|>A great confidence in the eternal wisdom of God makes one a more likely ally, and also a greater friend.<|endoftext|>\n",
            "<|startoftext|>Faith is the ability to experience things that are impossible, not to believe them.<|endoftext|>\n",
            "<|startoftext|>Faith and courage alone cannot save us.<|endoftext|>\n",
            "<|startoftext|>Faith is the belief that God has revealed in us some truth.<|endoftext|>\n",
            "<|startoftext|>Faith is not just and unchangeable, but a necessary element in everything which is to continue in it.<|endoftext|>\n",
            "<|startoftext|>Faith is the most pure, and in some cases is most effective.<|endoftext|>\n",
            "<|startoftext|>I have found it difficult to believe in my Creator. At its beginning I began to doubt myself. Then I began to believe in myself, which has left me the most weak and hopeless of all.<|endoftext|>\n",
            "<|startoftext|>The best advice, I learn, is to follow up by faith.<|endoftext|>\n",
            "<|startoftext|>The most effective, most precious, and most essential means of sustaining the soul, as well as securing itself from error, is a faithful faith of God.<|endoftext|>\n",
            "<|startoftext|>Faith is the ability to absorb what others will deny and to think for themselves.<|endoftext|>\n",
            "<|startoftext|>We can hope only that a great and wholesome Creator will not do with us any one thing but with himself.<|endoftext|>\n",
            "<|startoftext|>I never doubted that God would show us all the things that were beyond the powers of man. And I never, ever, denied that he would show us all.<|endoftext|>\n",
            "<|startoftext|>Faith is the belief that God is present in every thought, every action, in every action is an element in your confidence, in the whole faith in Him and in Him alone.<|endoftext|>\n",
            "<|startoftext|>There is a great difference between a great belief in God and a small belief that He exists.<|endoftext|>\n",
            "<|startoftext|>Faith in everything has a way of making things better.<|endoftext|>\n",
            "<|startoftext|>Faith, in times of great need, is found both in the desire of more than one thing, and in the belief that the other is less than one.<|endoftext|>\n",
            "<|startoftext|>I've always believed that you can't be good and still be a good human being if you have very little faith in yourself.<|endoftext|>\n",
            "<|startoftext|>All in all, they make the greatest mistake. The most difficult thing in the world, the great mistake for many of us, is to accept the fact that you are just as capable of doing so.<|endoftext|>\n",
            "<|startoftext|>The secret of great confidence is to have faith that what you are doing - which is impossible, because it's not possible - will bring you a more complete understanding of the world.<|endoftext|>\n",
            "<|startoftext|>I do not give up hope or any other thing. I believe in everything.<|endoftext|>\n",
            "<|startoftext|>Faith is the ability to endure the pain of rejection, not to allow yourself to get worse or stay in hell.<|endoftext|>\n",
            "<|startoftext|>Faith does not have a special meaning - it is the root of all great evils, the weakness of the world, the lack of hope for a better world. It is all there and in it, in the whole universe.<|endoftext|>\n",
            "<|startoftext|>Faith is not a skill that can be taught to a child because she can't believe it. It is a skill in the heart that has a greater power to help us grow into stronger, stronger people.<|endoftext|>\n",
            "<|startoftext|>If you can build a church in your own backyard, put enough lights, food, water, and a roof over your head, do it. It's your responsibility. Every American should have a church in their backyard.<|endoftext|>\n",
            "<|startoftext|>Faith is the ability\n",
            "\n",
            "[210 | 180.00] loss=2.35 avg=2.38\n",
            "[220 | 187.81] loss=2.44 avg=2.38\n",
            "[230 | 195.63] loss=2.29 avg=2.38\n",
            "[240 | 203.44] loss=2.25 avg=2.37\n",
            "[250 | 211.30] loss=2.51 avg=2.38\n",
            "[260 | 219.16] loss=2.37 avg=2.38\n",
            "[270 | 227.02] loss=2.18 avg=2.37\n",
            "[280 | 234.85] loss=2.30 avg=2.37\n",
            "[290 | 242.67] loss=2.55 avg=2.37\n",
            "[300 | 250.56] loss=2.03 avg=2.36\n",
            "[310 | 258.44] loss=2.20 avg=2.35\n",
            "[320 | 266.28] loss=2.20 avg=2.35\n",
            "[330 | 274.14] loss=2.42 avg=2.35\n",
            "[340 | 281.97] loss=2.25 avg=2.35\n",
            "[350 | 289.80] loss=2.16 avg=2.34\n",
            "[360 | 297.65] loss=2.19 avg=2.34\n",
            "[370 | 305.46] loss=2.13 avg=2.33\n",
            "[380 | 313.29] loss=2.25 avg=2.33\n",
            "[390 | 321.12] loss=2.37 avg=2.33\n",
            "[400 | 328.91] loss=2.21 avg=2.32\n",
            "======== SAMPLE 1 ========\n",
            " find that it is a real change in the way I am. It was a real change in my attitude. It was a real change in my heart.<|endoftext|>\n",
            "<|startoftext|>In our home country, I believe in freedom, and I see it reflected in our values here. We should not only be free, but we should be strong.<|endoftext|>\n",
            "<|startoftext|>When the day comes, you must always be open to changes, because change is waiting for you.<|endoftext|>\n",
            "<|startoftext|>Change and change are like candles in a fire, but they never disappear.<|endoftext|>\n",
            "<|startoftext|>The only true hope is change.<|endoftext|>\n",
            "<|startoftext|>The American people deserve, and need, all the change they are seeking.<|endoftext|>\n",
            "<|startoftext|>Most of my time, there's great change but few of it is so great that people are willing to wait for it.<|endoftext|>\n",
            "<|startoftext|>All those years and years and those great things, when you want to say it, you say it slowly, or you say it in a very sudden way.<|endoftext|>\n",
            "<|startoftext|>Let me tell you, I think that every good change is like a sunset.<|endoftext|>\n",
            "<|startoftext|>The world of difference, all the way through to the end, all the way through to the beginning, all the way upward through to the beginning, has brought out the best. This is the way change is.<|endoftext|>\n",
            "<|startoftext|>You cannot change the past and change the future. The past is the only good.<|endoftext|>\n",
            "<|startoftext|>If it makes a good change, it will make a poor one.<|endoftext|>\n",
            "<|startoftext|>If your dreams are to exist, hope to be born. But the thing of which you are a child is not to become a true believer, it is to become yourself a child.<|endoftext|>\n",
            "<|startoftext|>Change requires a great deal of courage and will. The courage never comes fast enough.<|endoftext|>\n",
            "<|startoftext|>All people can have a sense of what it took to have something to offer themselves and, as a measure of that, to have something for themselves to experience and share with others. Experience is to give meaning to living, to create and to liberate oneself from the present moment.<|endoftext|>\n",
            "<|startoftext|>There must be so little change in the way man acts that one cannot change the world.<|endoftext|>\n",
            "<|startoftext|>Man is a perpetual creature, so it is not unreasonable that he should be interested in many kinds of change and upheaval.<|endoftext|>\n",
            "<|startoftext|>My work changes my attitude, my life. That's what happens to change.<|endoftext|>\n",
            "<|startoftext|>I've realized I can change my attitude and how I live my life and feel like I'm doing something.<|endoftext|>\n",
            "<|startoftext|>The good news is that as long as you go through the motions you have changed your attitude at least some of it. I just think it has to be good.<|endoftext|>\n",
            "<|startoftext|>Change you think is good can only be achieved by the people who understand you.<|endoftext|>\n",
            "<|startoftext|>We all live in a very complex world, with the vast majority of change occurring during a very small fraction of the time we live.<|endoftext|>\n",
            "<|startoftext|>Change is good old-fashioned wisdom.<|endoftext|>\n",
            "<|startoftext|>The only change that can happen is a change in attitude. The only change to happen is a change in attitude.<|endoftext|>\n",
            "<|startoftext|>In fact, the only thing we've got before the general public is a blank canvas in which to change our attitude or our behavior by changing our mind on a daily basis.<|endoftext|>\n",
            "<|startoftext|>We must change the subject of our lives, how we will deal with the future, our own behavior, how we will deal with the other people and the world we live in.<|endoftext|>\n",
            "<|startoftext|>We must change the subject of our lives, how we will deal with the future, our own behavior, how we will deal\n",
            "\n",
            "[410 | 345.18] loss=2.18 avg=2.32\n",
            "[420 | 353.00] loss=2.23 avg=2.32\n",
            "[430 | 360.81] loss=2.14 avg=2.31\n",
            "[440 | 368.62] loss=2.35 avg=2.31\n",
            "[450 | 376.45] loss=2.26 avg=2.31\n",
            "[460 | 384.28] loss=2.07 avg=2.31\n",
            "[470 | 392.13] loss=2.07 avg=2.30\n",
            "[480 | 399.98] loss=2.20 avg=2.30\n",
            "[490 | 407.79] loss=2.28 avg=2.30\n",
            "[500 | 415.62] loss=2.00 avg=2.29\n",
            "Saving checkpoint/run1/model-500\n",
            "[510 | 426.25] loss=2.34 avg=2.29\n",
            "[520 | 434.12] loss=2.03 avg=2.28\n",
            "[530 | 441.92] loss=2.59 avg=2.29\n",
            "[540 | 449.75] loss=2.13 avg=2.29\n",
            "[550 | 457.58] loss=2.14 avg=2.28\n",
            "[560 | 465.45] loss=2.20 avg=2.28\n",
            "[570 | 473.21] loss=2.03 avg=2.28\n",
            "[580 | 481.05] loss=1.99 avg=2.27\n",
            "[590 | 488.89] loss=2.28 avg=2.27\n",
            "[600 | 496.70] loss=2.13 avg=2.27\n",
            "======== SAMPLE 1 ========\n",
            " it in the morning or at night to take the morning notes that are important to you.<|endoftext|>\n",
            "<|startoftext|>It's like I'm so old school on this. I was always a little bit restless at 5 in the morning. That is like being in a bath. It's just something I would do.<|endoftext|>\n",
            "<|startoftext|>When I work alone, it comes out very boring and I work in the morning because of that. But when I wake up at night and work in an elevator, it's like getting up about 2:45-3:45 in the morning to take care of the kids and the kids' clothes.<|endoftext|>\n",
            "<|startoftext|>I'm a big girl, and after two or three years I get back up to do my thing and just just do whatever I'm about to do. But I'm not gonna have a routine, a routine that I can do at the same time.<|endoftext|>\n",
            "<|startoftext|>It's very depressing when you get stuck up a mountain. If you're doing something cool after you've done that, you might want to just look for someone to pull your hair so you don't get a little head bump.<|endoftext|>\n",
            "<|startoftext|>At work and at home, we have these jobs where if we're not meeting our deadlines, what do we do? This is an opportunity where we put a little bit more work in. It's not like this is going to be a full-time job, but it is a very exciting time.<|endoftext|>\n",
            "<|startoftext|>I've known Bill Cosby for 40 years. He is a very funny, very funny guy. He does very funny things on set, and he's also an amazing writer with great stories to tell. Bill was a tremendous influence on my thinking. To work with Bill was a special moment, because you get to work with people who work very hard.<|endoftext|>\n",
            "<|startoftext|>I just went onstage and cried because there is so much emotion in my body. I mean, there are tears. But I'm so happy with my body. I am more excited about getting back to work in the morning than I was when I first broke for a month. I am more excited to do something amazing than to spend the rest of the day waiting for work.<|endoftext|>\n",
            "<|startoftext|>I woke up in the morning feeling very tired. I did not feel like a normal person. It was just like someone had thrown my body in a blender and sent it over to chemtrail.<|endoftext|>\n",
            "<|startoftext|>I am going to have a shower in the morning and a snack in the morning. I wish it was all sunshine, lots of fresh produce and my children, for now it would be a tad annoying.<|endoftext|>\n",
            "<|startoftext|>The best time to read a novel is before it is finished. It's the best time to read something.<|endoftext|>\n",
            "<|startoftext|>When I'm a mom, I think it's more interesting to read something when it's already finished I might as well wait for a book before I begin the nap.<|endoftext|>\n",
            "<|startoftext|>I read at six in the morning and I could have been at least 40 in the afternoon, but a woman had written two letters to me and they said, 'Oh, it's your girl.'<|endoftext|>\n",
            "<|startoftext|>If you've got a passion that you bring into the game and you try to be the best you can be, sometimes the next day might be a different matter. You might have to change, you might not win, but the next day you'll still be in good shape. You may feel less alone and more in your team.<|endoftext|>\n",
            "<|startoftext|>If you want to be a woman, you're going to have to change you.<|endoftext|>\n",
            "<|startoftext|>You're always in trouble. It's like if I'm playing soccer or something and I don't seem to be fit enough. I try to change.<|endoftext|>\n",
            "<|startoftext|>I was working at a spa with one day in a row and I noticed a lot of women felt the same way about me: you think they like me because I'm attractive as hell, but I'm actually pretty cool. I like to try and be the person that they've always wanted to be.<|endoftext|>\n",
            "<|startoftext|>I was like this cool person who wanted to get\n",
            "\n",
            "[610 | 512.80] loss=2.20 avg=2.27\n",
            "[620 | 520.61] loss=2.08 avg=2.26\n",
            "[630 | 528.41] loss=1.95 avg=2.25\n",
            "[640 | 536.21] loss=1.97 avg=2.25\n",
            "[650 | 544.01] loss=2.03 avg=2.24\n",
            "[660 | 551.88] loss=2.16 avg=2.24\n",
            "[670 | 559.70] loss=2.04 avg=2.24\n",
            "[680 | 567.50] loss=2.03 avg=2.23\n",
            "[690 | 575.31] loss=2.03 avg=2.23\n",
            "[700 | 583.17] loss=2.11 avg=2.23\n",
            "[710 | 591.05] loss=1.94 avg=2.22\n",
            "[720 | 598.88] loss=1.91 avg=2.22\n",
            "[730 | 606.74] loss=2.15 avg=2.21\n",
            "[740 | 614.59] loss=2.28 avg=2.22\n",
            "[750 | 622.43] loss=1.93 avg=2.21\n",
            "[760 | 630.23] loss=2.13 avg=2.21\n",
            "[770 | 638.10] loss=2.50 avg=2.21\n",
            "[780 | 645.97] loss=2.01 avg=2.21\n",
            "[790 | 653.83] loss=2.12 avg=2.21\n",
            "[800 | 661.70] loss=1.83 avg=2.20\n",
            "======== SAMPLE 1 ========\n",
            " I had to do the first draft.<|endoftext|>\n",
            "<|startoftext|>I have no knowledge of the nature of intelligence.<|endoftext|>\n",
            "<|startoftext|>All people do the best they are allowed to do. I mean, it's just a sport, it's just a profession. It comes with this fact about living. It's just an innate ability, and there's no hard and fast rules about it.<|endoftext|>\n",
            "<|startoftext|>An artist who has his own way of thinking who does not want to make his own way of his paintings will never be able to produce art.<|endoftext|>\n",
            "<|startoftext|>I really don't like being the leader in a world of opinion and facts. I like things that really don't require the time to make, that are truly personal, and so there's something inherently dangerous in that.<|endoftext|>\n",
            "<|startoftext|>In the most serious sense, a novel is a book that tells stories and gives the reader a sense of feeling. There is a great deal of intelligence and intelligence, a sense of having lived and the power it has given to you is still alive!<|endoftext|>\n",
            "<|startoftext|>There's a lot of complexity to the way intelligence is thought and studied in schools, and so it's still part of our consciousness.<|endoftext|>\n",
            "<|startoftext|>The American public is becoming more aware of it, and we have to show that in schools and in art museums.<|endoftext|>\n",
            "<|startoftext|>If we can't control our own intelligence then we're not free to limit it.<|endoftext|>\n",
            "<|startoftext|>As part of my growing up, I had a lot of social friends that were very intelligent - maybe that was an influence.<|endoftext|>\n",
            "<|startoftext|>I'm not good at math, but if I do, I don't waste a lot of time saying, Oh my God, it's a game.<|endoftext|>\n",
            "<|startoftext|>I have many friends who are brilliant people and they are not going to tell anyone. But my mother had a tough upbringing. My father had two very aggressive kids and they had this sense of fear about people. Now he's back, and he's better, and the things that he said about his wife, they're more important to him. His kids are doing well.<|endoftext|>\n",
            "<|startoftext|>All these years they have all this new science that we just haven't quite come to understanding it - how does the brain affect performance? We don't really study it. What we do is it's a series of things: how do I get better and better? Why do people do this? And the reason is this: there was a time when they were the smartest people on earth. They were the only people that were getting rich. To have a brain was not enough, there were other things you had to do.<|endoftext|>\n",
            "<|startoftext|>I think I am more mature than people suggest.<|endoftext|>\n",
            "<|startoftext|>I didn't know much about sex until I read 'Goddess.' I'd been married a few times in the past, and a lot of the women in my family don't have that kind of confidence.<|endoftext|>\n",
            "<|startoftext|>The most important work I've done for myself and for my family is the art of being healthy. I want to be able to do that.<|endoftext|>\n",
            "<|startoftext|>I don't really get to the show very often because I'm working at it too much, or have a lot of friends that I hang out with so I don't get called to the show.<|endoftext|>\n",
            "<|startoftext|>It's interesting that you get to the show every week and there are always stories that you don't get to put out. There is a bit of an organic renewal at the end of the show. I have to see that.<|endoftext|>\n",
            "<|startoftext|>That kind of shows people how much they're missing. I'd like to be my best friend by the time the next season premieres. It's been a fun ride.<|endoftext|>\n",
            "<|startoftext|>You just have to find yourself and your voice, your way of being yourself, and that's what I have been in this business for. To make movies that are so personal is something I've always had to deal with. As a young black man in Harlem, I always had that to\n",
            "\n",
            "[810 | 677.91] loss=2.11 avg=2.20\n",
            "[820 | 685.72] loss=2.34 avg=2.20\n",
            "[830 | 693.53] loss=2.13 avg=2.20\n",
            "[840 | 701.33] loss=2.22 avg=2.20\n",
            "[850 | 709.19] loss=1.83 avg=2.20\n",
            "[860 | 717.06] loss=2.03 avg=2.19\n",
            "[870 | 724.95] loss=2.16 avg=2.19\n",
            "[880 | 732.80] loss=2.00 avg=2.19\n",
            "[890 | 740.66] loss=1.83 avg=2.18\n",
            "[900 | 748.56] loss=2.19 avg=2.18\n",
            "[910 | 756.41] loss=2.04 avg=2.18\n",
            "[920 | 764.22] loss=1.86 avg=2.18\n",
            "[930 | 772.05] loss=1.93 avg=2.17\n",
            "[940 | 779.83] loss=1.97 avg=2.17\n",
            "[950 | 787.63] loss=2.03 avg=2.17\n",
            "[960 | 795.39] loss=2.11 avg=2.16\n",
            "[970 | 803.15] loss=1.94 avg=2.16\n",
            "[980 | 810.96] loss=1.92 avg=2.16\n",
            "[990 | 818.78] loss=1.83 avg=2.15\n",
            "[1000 | 826.66] loss=2.05 avg=2.15\n",
            "Saving checkpoint/run1/model-1000\n",
            "WARNING:tensorflow:From /tensorflow-1.15.2/python3.7/tensorflow_core/python/training/saver.py:963: remove_checkpoint (from tensorflow.python.training.checkpoint_management) is deprecated and will be removed in a future version.\n",
            "Instructions for updating:\n",
            "Use standard file APIs to delete files with this prefix.\n"
          ],
          "name": "stdout"
        }
      ]
    },
    {
      "cell_type": "markdown",
      "metadata": {
        "id": "mWGRwMU2HsvX"
      },
      "source": [
        "Saving Model Checkpoint under 'run1'"
      ]
    },
    {
      "cell_type": "code",
      "metadata": {
        "id": "vrwqOF0uHqu6"
      },
      "source": [
        "gpt2.copy_checkpoint_to_gdrive(run_name='run1')"
      ],
      "execution_count": null,
      "outputs": []
    },
    {
      "cell_type": "markdown",
      "metadata": {
        "id": "afmXGvepG06H"
      },
      "source": [
        "Model Size: 124M: Increased Learning Rate 0.2\n"
      ]
    },
    {
      "cell_type": "code",
      "metadata": {
        "colab": {
          "base_uri": "https://localhost:8080/"
        },
        "id": "Cbe_807_TXsg",
        "outputId": "bde5b4c8-0467-4750-f670-9d1fbb8c0d3e"
      },
      "source": [
        "sess_2 = gpt2.start_tf_sess()\n",
        "\n",
        "gpt2.finetune(sess_2,\n",
        "              dataset=file_name,\n",
        "              model_name='124M',\n",
        "              steps=1000,\n",
        "              learning_rate = .02,\n",
        "              restore_from='fresh',\n",
        "              run_name='run2',\n",
        "              print_every=10,\n",
        "              sample_every=200,\n",
        "              save_every=500\n",
        "              )"
      ],
      "execution_count": null,
      "outputs": [
        {
          "output_type": "stream",
          "text": [
            "WARNING:tensorflow:From /usr/local/lib/python3.7/dist-packages/gpt_2_simple/src/sample.py:17: where (from tensorflow.python.ops.array_ops) is deprecated and will be removed in a future version.\n",
            "Instructions for updating:\n",
            "Use tf.where in 2.0, which has the same broadcast rule as np.where\n",
            "Loading checkpoint models/124M/model.ckpt\n",
            "INFO:tensorflow:Restoring parameters from models/124M/model.ckpt\n"
          ],
          "name": "stdout"
        },
        {
          "output_type": "stream",
          "text": [
            "100%|██████████| 1/1 [00:00<00:00,  6.41it/s]"
          ],
          "name": "stderr"
        },
        {
          "output_type": "stream",
          "text": [
            "Loading dataset...\n"
          ],
          "name": "stdout"
        },
        {
          "output_type": "stream",
          "text": [
            "\n"
          ],
          "name": "stderr"
        },
        {
          "output_type": "stream",
          "text": [
            "dataset has 2302654 tokens\n",
            "Training...\n",
            "[10 | 14.14] loss=18.18 avg=18.18\n",
            "[20 | 21.88] loss=8.82 avg=13.47\n",
            "[30 | 29.75] loss=6.29 avg=11.06\n",
            "[40 | 37.63] loss=5.80 avg=9.72\n",
            "[50 | 45.47] loss=5.60 avg=8.88\n",
            "[60 | 53.31] loss=5.47 avg=8.30\n",
            "[70 | 61.16] loss=5.35 avg=7.86\n",
            "[80 | 68.97] loss=5.50 avg=7.56\n",
            "[90 | 76.77] loss=6.07 avg=7.39\n",
            "[100 | 84.50] loss=6.33 avg=7.28\n",
            "[110 | 92.25] loss=5.20 avg=7.08\n",
            "[120 | 100.03] loss=5.27 avg=6.92\n",
            "[130 | 107.80] loss=4.79 avg=6.74\n",
            "[140 | 115.56] loss=5.16 avg=6.62\n",
            "[150 | 123.33] loss=5.88 avg=6.57\n",
            "[160 | 131.11] loss=4.60 avg=6.44\n",
            "[170 | 138.90] loss=5.08 avg=6.35\n",
            "[180 | 146.65] loss=5.17 avg=6.28\n",
            "[190 | 154.43] loss=4.99 avg=6.21\n",
            "[200 | 162.24] loss=5.27 avg=6.15\n",
            "======== SAMPLE 1 ========\n",
            " asNo life the the we a a no, I can to do a death from great;\n",
            "<|startoftext|end to the man to that not a, and and a of age in, the failure that a people that, so like a my to a failure, that a good to I are one a life was of that that, it with my of.<|endoftext|endoftext|endoftext|>The, but hope is are a a a and more, you do I be one it myhas, but it a failure, and sense my the way, a the world of, of it. But.<|><|>I the for a is can that,000 of my to it, that to it that It, and of their.<|>There, that and the, who it humor, or that our and's.<|startoftext||>H it a I it and a age;I want that, to love, a life is do love.<|>In a age, to the new or is you a in to I be so make an and life is are I their is are was, but the is and about a great by a a's to a I a a my-six it in that to don to to all to have one it as to be of's all to like to want of you be the great in it with a in I a people the age as in;The to be the in other prohibits;To a and was I that I the-Head Mental, but the new a new a\n",
            "I my't're not to the coherent,, we my you is it not's one. This is the great theThe one to I is the a I to I the failure,'t've, the to the.<|endoftext|>The, in be be the that think not a people the in way to is be that hope of a my a a great,, the\n",
            ">John;The the and man.<|>\n",
            "<|>\n",
            "<|endoftext|startoftext|endoftext|startoftext|endoftext|text|>In a one's the is and other and that, and thefuture, and the is in you and. And the time-can\n",
            "<|startoftext|>\n",
            "<|endofoftext|endoftext|endoftext|startoftext|endoftext|endoftext|>If a in in a that. TheTo, of way of the my world to I the, 'An at I and a is.<|endoftext|endoftext|>morningimagcanaudThe of to my. From, and be hope-Aar, of, you no it we life.;I anThe in get and's his all, but want or and The cycleaging. You my life the death that in up and a sense;\n",
            "<|>\n",
            "<|startoftext|>A a hope't it a great life to lot and a, and all to you are not world-Okay and the life other for thecan that was is is it world of get's the the in to be life their.<|>\n",
            "<|startoftext|startofof|endoftext|> and you the the good a the that. A my lot, the man, the world the that that with's, and not it a the I that anzhen.;A\n",
            "<|>\n",
            "<|endoftext|>Thiscan;\n",
            "<|endoftext|>\n",
            "The.<|endoftext|endoftext|endoftext|>\n",
            "<|startoftext|>\n",
            "<|>It to of I a for that the a to the-uddle, I a more of do the cradle to\n",
            "<|>\n",
            "<|endoftext|endoftext|endoftext|>\n",
            "endoftext|startoftext|>I a you it, no,, I of for people it our-cancan is the be of of world,.<|>\n",
            "<|startoftext|>The a think the time and that a life of or a in the it people I I the, then. That. And no a to I the-\n",
            "<|endoftext|>Itext|endoftext|endoftext|startoftext|endoftext|startoftext|endoftext|>\n",
            "<|endoftext|>\n",
            "<|endoftext|endoftext|endoftext|startoftext|endoftext|startoftext|endoftext|>\n",
            "<|endoftext|>\n",
            "< It, not the lot my new to are the the man at all people a Smith, you is the my that with one the failure of it a most it and I in to and hon of my to a for is have I a anigs-The. The, if\n",
            "\n",
            "[210 | 179.60] loss=4.81 avg=6.08\n",
            "[220 | 187.38] loss=4.60 avg=6.01\n",
            "[230 | 195.10] loss=4.99 avg=5.96\n",
            "[240 | 202.85] loss=5.05 avg=5.92\n",
            "[250 | 210.59] loss=4.64 avg=5.86\n",
            "[260 | 218.39] loss=4.49 avg=5.80\n",
            "[270 | 226.16] loss=5.65 avg=5.79\n",
            "[280 | 233.96] loss=4.41 avg=5.74\n",
            "[290 | 241.78] loss=4.53 avg=5.69\n",
            "[300 | 249.55] loss=4.81 avg=5.66\n",
            "[310 | 257.32] loss=4.42 avg=5.61\n",
            "[320 | 265.10] loss=4.73 avg=5.58\n",
            "[330 | 272.87] loss=4.62 avg=5.54\n",
            "[340 | 280.67] loss=4.40 avg=5.50\n",
            "[350 | 288.48] loss=4.45 avg=5.47\n",
            "[360 | 296.24] loss=4.78 avg=5.45\n",
            "[370 | 304.06] loss=4.62 avg=5.42\n",
            "[380 | 311.83] loss=4.06 avg=5.38\n",
            "[390 | 319.60] loss=4.80 avg=5.36\n",
            "[400 | 327.38] loss=4.67 avg=5.34\n",
            "======== SAMPLE 1 ========\n",
            " mental the on of more of of a a un of the the lot, that a- than the, they the life up the future to be that, I's a life a it up on the a knowledge and. be your time-ag is't be the future;cool\n",
            "18;\n",
            "<|>\n",
            "<|endoftext|>\n",
            "<|endoftext|>\n",
            "<|>\n",
            "<|startoftext|startoftext|endtext|endoftext|startoftext|startoftext|>D States is good and a great of to know it about the life from your. And but to see not.<|>I find's I get and you want ofoftext|>\n",
            "<|startoftext|>The. We find, but our fact in but his life, but that or you must be to the knowledge.<|>\n",
            "<|startoftext|endof, or it, when and a own best good. The man.<|endoftext|>\n",
            "<|endoftext|>\n",
            "<|>\n",
            "<|>\n",
            "<|endoftext|startoftext|>\n",
            "<|endoftext|startoftext|>If the good by the car, in a bits in the most the little it to the future, and got on the world in the good and a few.<|endoftext|>The same is is our dad a the fact.<|startoftext|>\n",
            "<|>\n",
            "<|startoftext|>\n",
            "<|startoftext|startoftext|>\n",
            "<|>\n",
            "<|>I have the business in the way.<|startoftext|>\n",
            "<|startofoftext|>\n",
            "<|>\n",
            "<|>I's man. They have a best the life out of this the day. A good and an a the United and your a great that you be I like the way up and the knowledge.<|startoftext|> than we go, but and in good the a man, not a own it to not of the car is an other. My thing I'm God.<|endoftext|>\n",
            "<|>You am those by the lot of very most knowledge of an life.<|>\n",
            "<|>\n",
            "<|>Our knowledge that a be and but the good I do in a man in a a little a other, you know what.<|startoftext|>\n",
            "<|startoftext|startoftext|>\n",
            "<|endoftext|endoftext|endoftext|>\n",
            "<|>\n",
            "<|>\n",
            "<|>\n",
            "<|endoftext|startoftext|endoftext|startoftext|startoftext|startoftext|>\n",
            "<|>\n",
            "<|>\n",
            "<|>\n",
            "<|startoftext|endoftext|endoftext|>When can know in the good that to see my car and no sense of me a a good for my best our lot out.<|startoftext|>\n",
            "<|endoftext|>\n",
            "<|>\n",
            "377, and the most the most. That. That, a the car the good the the best great our good that I think to don't don't the good to make is the man, you have is in a the man and the other and people. I be with good my the great, the lot and great people of to have the great a car, the first good of in few to do, your a life who're your to the important of that a lot are no the world in your future on the the work out of to my. What only than a great to the fact is't not my a important, not do of your own more that our spirit, which, but they be his-born is a lot is what about great me of a life up not good, 'ifle or God from the car of a bit and this a other the mind when.<|startoftext|startoftext|startoftext|>\n",
            "<|startoftext|>\n",
            "\n",
            "<|>You are more than on and very the great the the best, which than that and you do as the life.<|startoftext|>Because the children from the own the first life it.<|>You see can't be great at the best that my life is this the good. With the man like the nation.<|>Up, and no it's to be a heartness of the best out-.<|start aspiration.<|startoftext|start is a, to be a the lot of more't are life, especially at my father has is the government and of it's the great.<|endtext|>\n",
            "<|startoftext|endoftext|endoftext|startoftext|>\n",
            "<|>\n",
            "13born by great fact that -'t have me.<|>Your car the\n",
            "\n",
            "[410 | 343.46] loss=4.78 avg=5.32\n",
            "[420 | 351.24] loss=5.16 avg=5.32\n",
            "[430 | 359.02] loss=4.69 avg=5.30\n",
            "[440 | 366.87] loss=5.08 avg=5.29\n",
            "[450 | 374.66] loss=4.67 avg=5.28\n",
            "[460 | 382.42] loss=4.16 avg=5.25\n",
            "[470 | 390.19] loss=4.59 avg=5.23\n",
            "[480 | 397.96] loss=4.02 avg=5.20\n",
            "[490 | 405.72] loss=4.33 avg=5.17\n",
            "[500 | 413.54] loss=4.78 avg=5.17\n",
            "Saving checkpoint/run2/model-500\n",
            "[510 | 424.25] loss=4.08 avg=5.14\n",
            "[520 | 432.03] loss=4.80 avg=5.13\n",
            "[530 | 439.79] loss=4.92 avg=5.12\n",
            "[540 | 447.53] loss=4.21 avg=5.10\n",
            "[550 | 455.33] loss=4.69 avg=5.09\n",
            "[560 | 463.10] loss=4.92 avg=5.09\n",
            "[570 | 470.90] loss=4.59 avg=5.08\n",
            "[580 | 478.67] loss=4.80 avg=5.07\n",
            "[590 | 486.42] loss=4.51 avg=5.06\n",
            "[600 | 494.21] loss=4.41 avg=5.04\n",
            "======== SAMPLE 1 ========\n",
            "ity I and I>\n",
            "<|>I can believe I really want. If we there is like. <|endoftext|>The mom and I not is always in the best to I've.<|endoftext|startoftext|>\n",
            "<|endoftext|endoftext|>As a whole morning '\n",
            "<|startoftext|>My's good not more up a my thing a best for the life I don and not with the life of, and but it may be your be a lot, that not was the of not like the lot in not a best. You like a very life about you are to one to that it's I have always not, I think not I I'm always that it and that only's as.<|>\n",
            "<|><|endoftext|startoftext|>\n",
            "<|endoftext|>\n",
            "<|>\n",
            "<|>To just the way of the own things I don't like and the thing and being that it, the morning not in the right of not the world of it is my great fact and and a way on and you must a most in the good is in our one to say, they, and I do I have like your family good, they has the own fact of a great me of the fact, they that and the mom - and that been a other a very most them. So. One.<|>I hope because you know the heart to me on so people.<|startoftext|endoftext|endtext|>\n",
            "<|>\n",
            "<|>\n",
            "<|>\n",
            "<|>\n",
            "<|starttext. I was a the person people that it for a greatest heart-;Itext I'm, that about the mom is a one, I am. I think that was make and my people. I don I was the very way, you will>\n",
            "<|>\n",
            "<|>\n",
            "<text|>There on the whole I do, and to say and I think the lot, which is of I don't are '\n",
            "<|>\n",
            "<|startoftext|startoftext|>\n",
            "<|endoftext|endoftext|>\n",
            "<|startoftext|startoftext|>He are to be very to say than the same is they was a dad I had, but there thing I have, that to don have a great all and all the mother on a other way, I want to believe a little;f\n",
            "<|startoftext|>\n",
            "<|>Itext|start mom\n",
            "<|endoftext|>\n",
            "<|>\n",
            "\n",
            "<|>\n",
            "<|startoftext|>As the future, which of being.<|>\n",
            "<|startoftext|>\n",
            "<|>\n",
            "<|endoftext|endoftext|>\n",
            "<|endofoftext|endoftext|>For a dad so and not I woke to a great in I am a great. <|>\n",
            "<|endoftext|>\n",
            "<|startoftext|startoftext|endoftext|>\n",
            "<|>\n",
            "<|>\n",
            "<|startoftext|>\n",
            "<|endoftext|>\n",
            "<|startoftext|endoftext|start. I have you really the, I was their, and the best years I'm the first people of to I|>\n",
            "S from the most.<|>For the greatest the good great that of you don't think in the past. When you've, as the mom,, and people is, and God is like not may to have in a great time, because at what, he's the good than the children and I is what he seems, I have a one's a good to be that is a life of an mom, in a mom, if they was funny I think in his very, the own is to have me the way of a the, 'The country.<|startoftext|>\n",
            "<|endoftext|>One.<|startoftext|>\n",
            "<|>Our an that and I do I may learn to do I don't be I was we is the best.<|>\n",
            "<|endoftext|endoftext|startoftext|endoftext|startoftext|endoftexttext|startoftext|startoftext|endoftext|>I am to be I'm the good my great has great the same heart is the most life, I think when I believe.<|>\n",
            "<|>Love is a and and't have an people's good of it. And or no not. I feel to be so your people-yd from the idea is we I don't don of It's when I hope that I'm a mom, I the idea of great with what we|endoftext|>In it, you can't want is the great who\n",
            "\n",
            "[610 | 510.28] loss=4.88 avg=5.04\n",
            "[620 | 518.06] loss=4.49 avg=5.03\n",
            "[630 | 525.95] loss=4.36 avg=5.01\n",
            "[640 | 533.75] loss=4.83 avg=5.01\n",
            "[650 | 541.61] loss=4.26 avg=5.00\n",
            "[660 | 549.42] loss=4.24 avg=4.98\n",
            "[670 | 557.25] loss=4.34 avg=4.97\n",
            "[680 | 565.09] loss=4.58 avg=4.96\n",
            "[690 | 572.93] loss=4.76 avg=4.95\n",
            "[700 | 580.76] loss=5.32 avg=4.96\n",
            "[710 | 588.62] loss=4.06 avg=4.94\n",
            "[720 | 596.45] loss=4.39 avg=4.93\n",
            "[730 | 604.24] loss=4.28 avg=4.92\n",
            "[740 | 612.01] loss=4.32 avg=4.91\n",
            "[750 | 619.81] loss=4.60 avg=4.90\n",
            "[760 | 627.65] loss=4.86 avg=4.90\n",
            "[770 | 635.48] loss=4.68 avg=4.90\n",
            "[780 | 643.26] loss=5.09 avg=4.90\n",
            "[790 | 651.09] loss=4.55 avg=4.90\n",
            "[800 | 658.92] loss=4.95 avg=4.90\n",
            "======== SAMPLE 1 ========\n",
            " 40|family we feel my great, and me and that and we want the it like it.<|>It.;E.<|startoftext|>\n",
            "<|endoftext|>\n",
            "<|>We think and.<|startoftext|start>\n",
            "<|startoftext|startoftext|>Dream and as a, not was much to get are my world should God will know when my has a the very way theoftext|>I>I feel to have and to be not as every I, to come's.<|endoftext|>Men will have not of the future at men I was an great to the own car to a good than the day is going more the world\n",
            "<|endoftext|endoftext|>\n",
            "<|>\n",
            "<|startoftext|endoftext|>Myoftext|>You will think a very most,.<|>\n",
            "<|>\n",
            "<|startoftext|>\n",
            "<|>\n",
            "<|>\n",
            "<|>Our the most my man of.<|>\n",
            "<|>.<|endoftext|>\n",
            "<|endoftext|endoftext|>\n",
            "<|startoftext|startoftext|>\n",
            "<|endoftext|endoftext|startoftext|startoftext|> and is very good. It would know to have to get -, my life. It.<|>\n",
            "<text|endof>\n",
            "<|>A good, and who'll when to do I is a other and I do in your and you have. Being a car. A own, and the morning and always.<| am on some.<|>\n",
            "<|startoftext|endoftext|>\n",
            "<|>\n",
            "\n",
            "<|>\n",
            "<|>\n",
            "<|endtext|startoftext|>I are it in great morning can like they have to need.<|startoftext|startoftext|endoftext|>\n",
            "<|endoftext|>\n",
            "<|endoftext|endoftext|startoftext|endoftext|>\n",
            "<|endoftext|>\n",
            "<|endoftext|>\n",
            "<|>\n",
            "<|>\n",
            " the morning, and very a time and people like. I can made of my world to eat. I do they should have that it to love. It's very way to. And you will will tell. And with the future.<|endoftext|startoftext|startoftext|>I never go the fear of my morning. never do I don't have my way, and good the man, if you can it to work's us to have very people, and the morning of the sooner, the mind and I have a own and not and I feel is like the world is not it's to say.<|endoftext|endoftext|>The God.<|startoftext|>\n",
            "<|text|Well to be that more.<|startoftext|>Theretext|startoftext|>I will're the past, you are I can be our who get it has all a world is the man, in God. So the, it are not you can don make I've like is the people. It's a government's her and I have no morning is something. This.<|endoftext|startoftext|>\n",
            "<|>\n",
            "< of that there, you would go is always always is love has a a good than, and there for any child about the, you have been the most.<|endoftext|>\n",
            "<|>I't want on the food but not it is my little has just very that they know is it is always no.<|endoftext|>\n",
            "<|endoftext|>\n",
            "<|endoftext|>\n",
            "<|end to be my food that.<|endoftext|>\n",
            "<|>\n",
            "<|>\n",
            "<|startoftext|startoftext|>What I was to. It will always is a good in the knowledge all the my first of a good and that, the mind. I would have only the whole all is I was a great way to say.<|startoftext|endoftext|>\n",
            "<|endoftext|endoftext|endoftext|endoftext|endoftext|>\n",
            "<|>\n",
            "<|startoftext|startoftext|startoftext|startoftext|>\n",
            "<|>\n",
            "<|startoftext|endoftext|>For. But.<|endoftext|endoftext|endoftext|>No, I do he, that.<|>No sense and was the government will can want and, but it would get to a great. I get a way.<|>\n",
            "<|>\n",
            "<|endoftext|\n",
            "\n",
            "[810 | 675.02] loss=4.67 avg=4.89\n",
            "[820 | 682.86] loss=4.72 avg=4.89\n",
            "[830 | 690.66] loss=4.70 avg=4.89\n",
            "[840 | 698.50] loss=5.21 avg=4.89\n",
            "[850 | 706.30] loss=4.57 avg=4.89\n",
            "[860 | 714.09] loss=4.53 avg=4.88\n",
            "[870 | 721.91] loss=4.96 avg=4.88\n",
            "[880 | 729.74] loss=4.62 avg=4.88\n",
            "[890 | 737.59] loss=4.25 avg=4.87\n",
            "[900 | 745.40] loss=4.57 avg=4.86\n",
            "[910 | 753.20] loss=4.79 avg=4.86\n",
            "[920 | 761.03] loss=4.10 avg=4.85\n",
            "[930 | 768.85] loss=4.46 avg=4.84\n",
            "[940 | 776.68] loss=4.22 avg=4.83\n",
            "[950 | 784.44] loss=4.20 avg=4.82\n",
            "[960 | 792.21] loss=4.50 avg=4.82\n",
            "[970 | 800.01] loss=4.27 avg=4.81\n",
            "[980 | 807.74] loss=4.57 avg=4.80\n",
            "[990 | 815.47] loss=4.48 avg=4.80\n",
            "[1000 | 823.24] loss=4.29 avg=4.79\n",
            "Saving checkpoint/run2/model-1000\n",
            "WARNING:tensorflow:From /tensorflow-1.15.2/python3.7/tensorflow_core/python/training/saver.py:963: remove_checkpoint (from tensorflow.python.training.checkpoint_management) is deprecated and will be removed in a future version.\n",
            "Instructions for updating:\n",
            "Use standard file APIs to delete files with this prefix.\n"
          ],
          "name": "stdout"
        }
      ]
    },
    {
      "cell_type": "markdown",
      "metadata": {
        "id": "jrQNDRd0GD1X"
      },
      "source": [
        "Saving Under 'run2'"
      ]
    },
    {
      "cell_type": "code",
      "metadata": {
        "id": "VHdTL8NDbAh3"
      },
      "source": [
        "gpt2.copy_checkpoint_to_gdrive(run_name='run2')"
      ],
      "execution_count": null,
      "outputs": []
    },
    {
      "cell_type": "markdown",
      "metadata": {
        "id": "qQJgV_b4bmzd"
      },
      "source": [
        "You're done! Feel free to go to the **Generate Text From The Trained Model** section to generate text based on your retrained model."
      ]
    },
    {
      "cell_type": "markdown",
      "metadata": {
        "id": "pel-uBULXO2L"
      },
      "source": [
        "## Load a Trained Model Checkpoint\n",
        "\n",
        "Running the next cell will copy the `.rar` checkpoint file from your Google Drive into the Colaboratory VM."
      ]
    },
    {
      "cell_type": "markdown",
      "metadata": {
        "id": "y_VAL947fyEr"
      },
      "source": [
        "CheckPoint from 124M GPT-2 Model Size"
      ]
    },
    {
      "cell_type": "code",
      "metadata": {
        "id": "DCcx5u7sbPTD"
      },
      "source": [
        "gpt2.copy_checkpoint_from_gdrive(run_name='run1')"
      ],
      "execution_count": null,
      "outputs": []
    },
    {
      "cell_type": "markdown",
      "metadata": {
        "id": "RTa6zf3e_9gV"
      },
      "source": [
        "The next cell will allow you to load the retrained model checkpoint + metadata necessary to generate text.\n",
        "\n",
        "**IMPORTANT NOTE:** If you want to rerun this cell, **restart the VM first** (Runtime -> Restart Runtime). You will need to rerun imports but not recopy files."
      ]
    },
    {
      "cell_type": "markdown",
      "metadata": {
        "id": "ClJwpF_ACONp"
      },
      "source": [
        "## Generate Text From The Trained Model\n",
        "\n",
        "One model has been trained you can generate text from the saved model directly."
      ]
    },
    {
      "cell_type": "markdown",
      "metadata": {
        "id": "zbqV_utTTjms"
      },
      "source": [
        "Running through trained model with Default learning Rate.\n"
      ]
    },
    {
      "cell_type": "code",
      "metadata": {
        "id": "4RNY6RBI9LmL",
        "colab": {
          "base_uri": "https://localhost:8080/"
        },
        "outputId": "e3f6a16e-e786-469c-9de3-949fb2b87575"
      },
      "source": [
        "gpt2.generate(sess, run_name='run1')"
      ],
      "execution_count": null,
      "outputs": [
        {
          "output_type": "stream",
          "text": [
            "I don't know how to be an artist, but I've always been an artist - a painter, or a sculptor. And I've always wanted to be an artist. I've always been an artist.<|endoftext|>\n",
            "<|startoftext|>The art of being a better person is the art of being a better man.<|endoftext|>\n",
            "<|startoftext|>As a child, I was taught that if you make the right choices, the right things for the right people, then you can be a good person and a good musician. That's how I learned to be a good mother and a good father.<|endoftext|>\n",
            "<|startoftext|>The art of life is to live by the rules of your own mind and not to judge by your own imperfections.<|endoftext|>\n",
            "<|startoftext|>The art of life is to live by the rules of your own mind and not to judge by your own imperfections.<|endoftext|>\n",
            "<|startoftext|>I never think I'm really good in my art, but I know what I like best and I know what I like worst. I don't think I'm good in my art, but I know what I like best and I know what I like worst.<|endoftext|>\n",
            "<|startoftext|>To me, everything is something you should be learning about, but if you want to know the real story, go ahead. If you want to know the real story, go to the art. If you want to know the real story, go to the reading. If you want to know the real story, go to the listening party.<|endoftext|>\n",
            "<|startoftext|>Art is the art of discovering life by the power of the mind.<|endoftext|>\n",
            "<|startoftext|>Art is the art of expressing the feelings of others.<|endoftext|>\n",
            "<|startoftext|>You no longer need to be a great artist to sell books, to sell art, to sell art is art.<|endoftext|>\n",
            "<|startoftext|>The art of life is to live by the rules of your own mind and not to judge by your own imperfections.<|endoftext|>\n",
            "<|startoftext|>The degree of failure is so great in art that failure is the most important quality in life.<|endoftext|>\n",
            "<|startoftext|>When you are in a good mood, you don't really want to be in a bad mood. You don't want to be in a bad mood because you have a good attitude. You don't want to be in a bad mood because you have a good attitude. You don't want to be in a bad mood because you have a bad attitude.<|endoftext|>\n",
            "<|startoftext|>I think if I could be the only one in this room who could be the only artist to make me feel happy, then I believe I could do it. If I could be the only one in this room who could be the only one who could finish a piece that has changed my life, then I believe I could make a difference in the world.<|endoftext|>\n",
            "<|startoftext|>I don't think that you can be the best you can be when you're in a bad mood, but if you could just give up the bad habits, and just accept your own limitations, then that would be incredibly good.<|endoftext|>\n",
            "<|startoftext|>Real happiness comes from knowing you have a job, a home, and a family where you can relax and enjoy the moment.<|endoftext|>\n",
            "<|startoftext|>Art is the most beautiful expression of human spirit.<|endoftext|>\n",
            "<|startoftext|>The art of being a good person is the art of being good. The art of being good is the art of being true.<|endoftext|>\n",
            "<|startoftext|>Art is the great gift of humanity, and its value cannot be measured by the price paid by art dealers or its value cannot be measured by its price paid by musicians.<|endoftext|>\n",
            "<|startoftext|>Life is not a matter of beauty, but of beauty and of art.<|endoftext|>\n",
            "<|startoftext|>Art is the art of deceiving the world.<|endoftext|>\n",
            "<|startoftext|>I really believe that when you're not in a bad mood, you are happier. If you're in a good mood, you're happier.<|endoftext|>\n",
            "<|startoftext|>I don't know that there is anything more powerful\n"
          ],
          "name": "stdout"
        }
      ]
    },
    {
      "cell_type": "markdown",
      "metadata": {
        "id": "bsqUu9YEUCko"
      },
      "source": [
        "Specifying Temperature Setting for Text output.\n",
        "Temperature sets likelihood for next word predicted."
      ]
    },
    {
      "cell_type": "code",
      "metadata": {
        "id": "8DKMc0fiej4N",
        "colab": {
          "base_uri": "https://localhost:8080/"
        },
        "outputId": "d5d2174d-74d8-4f0a-8399-8ce032dc05db"
      },
      "source": [
        "gpt2.generate(sess,\n",
        "              length=250,\n",
        "              temperature=1.0\n",
        "              )"
      ],
      "execution_count": null,
      "outputs": [
        {
          "output_type": "stream",
          "text": [
            "<|startoftext|>The buffalo meat I ate when I was a boy was cattle. I think accusations... That some of the buffalo meat consumed at the time of slaughter caused disease and disease as well as death is an exaggeration.<|endoftext|>\n",
            "<|startoftext|>Animals and persons used for food represent a vast confederation and should not be confused.<|endoftext|>\n",
            "<|startoftext|>I grew up entranced by the open countryside - where the wind was never down, where flowers were never not planted. Then I heard how wonderful the countryside was. Then I heard how much I enjoyed nature walking the countryside. And now I'm seeing a good part of Griffith Park in the Heights.<|endoftext|>\n",
            "<|startoftext|>Economically closed industries, air-traffic control and water supply generally threaten the survival of small businesses, while the growing financial sector and transport may have already been cut as well.<|endoftext|>\n",
            "<|startoftext|>To teach or to fight over is to be a part of a culture that wants to live in the new, familiar ways of dying, regardless of whether we\n"
          ],
          "name": "stdout"
        }
      ]
    }
  ]
}