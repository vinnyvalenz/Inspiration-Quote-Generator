{
  "nbformat": 4,
  "nbformat_minor": 0,
  "metadata": {
    "colab": {
      "name": "Analyzing_Motivational_Dataset.ipynb",
      "provenance": [],
      "collapsed_sections": [],
      "toc_visible": true,
      "include_colab_link": true
    },
    "kernelspec": {
      "name": "python3",
      "display_name": "Python 3"
    },
    "language_info": {
      "name": "python"
    }
  },
  "cells": [
    {
      "cell_type": "markdown",
      "metadata": {
        "id": "view-in-github",
        "colab_type": "text"
      },
      "source": [
        "<a href=\"https://colab.research.google.com/github/vinnyvalenz/Inspirational-Quote-Generator/blob/JCalderonChavez/Analyzing_Motivational_Dataset.ipynb\" target=\"_parent\"><img src=\"https://colab.research.google.com/assets/colab-badge.svg\" alt=\"Open In Colab\"/></a>"
      ]
    },
    {
      "cell_type": "code",
      "metadata": {
        "colab": {
          "resources": {
            "http://localhost:8080/nbextensions/google.colab/files.js": {
              "data": "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",
              "ok": true,
              "headers": [
                [
                  "content-type",
                  "application/javascript"
                ]
              ],
              "status": 200,
              "status_text": ""
            }
          },
          "base_uri": "https://localhost:8080/",
          "height": 39
        },
        "id": "vno_4dqSdl-M",
        "outputId": "b4884f46-a051-4791-eaba-1579a907bb34"
      },
      "source": [
        "# You may uncomment and use the following to upload your data\n",
        "# made by Jonathan Calderon Chavez\n",
        "import pandas as pd\n",
        "import numpy as np\n",
        "import nltk\n",
        "nltk.download('stopwords', quiet=True)\n",
        "from sklearn.feature_extraction.text import CountVectorizer, TfidfVectorizer \n",
        "from google.colab import files\n",
        "import io\n",
        "uploaded_item = files.upload()"
      ],
      "execution_count": null,
      "outputs": [
        {
          "output_type": "display_data",
          "data": {
            "text/html": [
              "\n",
              "     <input type=\"file\" id=\"files-95f1be94-5816-4cc6-8e01-109172bcf066\" name=\"files[]\" multiple disabled\n",
              "        style=\"border:none\" />\n",
              "     <output id=\"result-95f1be94-5816-4cc6-8e01-109172bcf066\">\n",
              "      Upload widget is only available when the cell has been executed in the\n",
              "      current browser session. Please rerun this cell to enable.\n",
              "      </output>\n",
              "      <script src=\"/nbextensions/google.colab/files.js\"></script> "
            ],
            "text/plain": [
              "<IPython.core.display.HTML object>"
            ]
          },
          "metadata": {
            "tags": []
          }
        }
      ]
    },
    {
      "cell_type": "code",
      "metadata": {
        "id": "5wuuhVcrxjJX"
      },
      "source": [
        "motivationalText_data = pd.read_csv(io.BytesIO(uploaded_item['MotivationalQuote.csv']))"
      ],
      "execution_count": null,
      "outputs": []
    },
    {
      "cell_type": "code",
      "metadata": {
        "colab": {
          "base_uri": "https://localhost:8080/"
        },
        "id": "QOK_xpiA05yy",
        "outputId": "222ea3b1-5a97-417e-baa4-7b16b7688a2d"
      },
      "source": [
        "motivationalText_data['Category'].value_counts().head(20)"
      ],
      "execution_count": null,
      "outputs": [
        {
          "output_type": "execute_result",
          "data": {
            "text/plain": [
              "home\\n         1000\n",
              "happiness\\n     999\n",
              "marriage\\n      998\n",
              "good\\n          998\n",
              "great\\n         998\n",
              "mom\\n           998\n",
              "life\\n          997\n",
              "change\\n        994\n",
              "god\\n           988\n",
              "history\\n       976\n",
              "love\\n          971\n",
              "money\\n         948\n",
              "best\\n          942\n",
              "dad\\n           931\n",
              "family\\n        897\n",
              "fear\\n          887\n",
              "funny\\n         866\n",
              "age\\n           864\n",
              "food\\n          860\n",
              "art\\n           827\n",
              "Name: Category, dtype: int64"
            ]
          },
          "metadata": {
            "tags": []
          },
          "execution_count": 3
        }
      ]
    },
    {
      "cell_type": "code",
      "metadata": {
        "colab": {
          "base_uri": "https://localhost:8080/"
        },
        "id": "1euYRVlMzFlI",
        "outputId": "86e64d38-ae3f-45cd-fea2-4dd4e3e02617"
      },
      "source": [
        "motivationalText_data['Category'].value_counts().tail(20)"
      ],
      "execution_count": null,
      "outputs": [
        {
          "output_type": "execute_result",
          "data": {
            "text/plain": [
              "Eye             1\n",
              "Folly           1\n",
              "Property        1\n",
              "Joy             1\n",
              "Idea            1\n",
              "Enthusiasm      1\n",
              "Credit          1\n",
              "Seasons         1\n",
              "Promise         1\n",
              "Self-control    1\n",
              "Perfection      1\n",
              "Capitalism      1\n",
              "Tyranny         1\n",
              "Rest            1\n",
              "Respect         1\n",
              "Confusion       1\n",
              "Fun             1\n",
              "Illusions       1\n",
              "London          1\n",
              "Money           1\n",
              "Name: Category, dtype: int64"
            ]
          },
          "metadata": {
            "tags": []
          },
          "execution_count": 4
        }
      ]
    },
    {
      "cell_type": "code",
      "metadata": {
        "colab": {
          "base_uri": "https://localhost:8080/"
        },
        "id": "QxbOe9An1lJG",
        "outputId": "18f373ba-87dd-4925-a02d-10e478db8360"
      },
      "source": [
        "motivationalText_data['Author'].value_counts().head(10)"
      ],
      "execution_count": null,
      "outputs": [
        {
          "output_type": "execute_result",
          "data": {
            "text/plain": [
              "Mitt Romney            137\n",
              "Henry David Thoreau    129\n",
              "Plato                  118\n",
              "George Bernard Shaw    111\n",
              "Friedrich Nietzsche    110\n",
              "Ralph Waldo Emerson    105\n",
              "Voltaire               101\n",
              "Mahatma Gandhi         100\n",
              "Thomas Jefferson       100\n",
              "Aristotle               98\n",
              "Name: Author, dtype: int64"
            ]
          },
          "metadata": {
            "tags": []
          },
          "execution_count": 5
        }
      ]
    },
    {
      "cell_type": "code",
      "metadata": {
        "colab": {
          "base_uri": "https://localhost:8080/"
        },
        "id": "g0C9K0OJ1lFW",
        "outputId": "d2ee4ecc-1e99-4941-d47f-b7b4c6b2fa3c"
      },
      "source": [
        "motivationalText_data['Author'].value_counts().tail(10)"
      ],
      "execution_count": null,
      "outputs": [
        {
          "output_type": "execute_result",
          "data": {
            "text/plain": [
              "Kato Kaelin                 1\n",
              "Eric Morecambe              1\n",
              "Rice, Grantland             1\n",
              "Hughes                      1\n",
              "Charles Atlas               1\n",
              "Storm Jameson               1\n",
              "John Backus                 1\n",
              "Dorothy Corkville Briggs    1\n",
              "Vannevar Bush               1\n",
              "Paul R. Ehrlich             1\n",
              "Name: Author, dtype: int64"
            ]
          },
          "metadata": {
            "tags": []
          },
          "execution_count": 6
        }
      ]
    },
    {
      "cell_type": "code",
      "metadata": {
        "colab": {
          "base_uri": "https://localhost:8080/"
        },
        "id": "i_Dd5PIZ5xyP",
        "outputId": "d822bfb0-39ea-45c3-cd87-1e480a768ec5"
      },
      "source": [
        "motivationalText_data.iloc[0]"
      ],
      "execution_count": null,
      "outputs": [
        {
          "output_type": "execute_result",
          "data": {
            "text/plain": [
              "Quotes      Age is an issue of mind over matter. If you do...\n",
              "Author                                             Mark Twain\n",
              "Category                                                age\\n\n",
              "Name: 0, dtype: object"
            ]
          },
          "metadata": {
            "tags": []
          },
          "execution_count": 7
        }
      ]
    },
    {
      "cell_type": "code",
      "metadata": {
        "id": "MBkmZ2qPxl0R"
      },
      "source": [
        "motivationalText_data_noNAN = motivationalText_data.dropna('index')\n",
        "motivationalText_string = \"\"\n",
        "\n",
        "# This will go quote by quote in the dataSet, and concatenation them togeter\n",
        "for quoteIdx in range(len(motivationalText_data)):\n",
        "        motivationalText_string += \" \" + motivationalText_data.iloc[quoteIdx,0]\n",
        "\n",
        "motivationalText_corpus = [motivationalText_string]"
      ],
      "execution_count": null,
      "outputs": []
    },
    {
      "cell_type": "code",
      "metadata": {
        "id": "08Ty6CgX2Pcq"
      },
      "source": [
        "#TF-IDF in sklearn\n",
        "from sklearn.feature_extraction.text import TfidfVectorizer"
      ],
      "execution_count": null,
      "outputs": []
    },
    {
      "cell_type": "code",
      "metadata": {
        "id": "wp0PP_na2PaM"
      },
      "source": [
        "vectorizer_motivationalText = TfidfVectorizer(stop_words='english')\n",
        "tfidf_motivationalText = vectorizer_motivationalText.fit_transform(motivationalText_corpus)"
      ],
      "execution_count": null,
      "outputs": []
    },
    {
      "cell_type": "code",
      "metadata": {
        "colab": {
          "base_uri": "https://localhost:8080/"
        },
        "id": "ax6RgHO_2PXa",
        "outputId": "58565def-f000-47ad-eb72-8eb64440b6a0"
      },
      "source": [
        "#tfidf_vectorizer.get_feature_names()\n",
        "tfidf_document_term_matrix_wO_stopwords = pd.DataFrame(data = tfidf_motivationalText.todense(), columns = vectorizer_motivationalText.get_feature_names(), index = {'Frq'})\n",
        "tfidf_document_term_matrix_wO_stopwords"
      ],
      "execution_count": null,
      "outputs": [
        {
          "output_type": "execute_result",
          "data": {
            "text/html": [
              "<div>\n",
              "<style scoped>\n",
              "    .dataframe tbody tr th:only-of-type {\n",
              "        vertical-align: middle;\n",
              "    }\n",
              "\n",
              "    .dataframe tbody tr th {\n",
              "        vertical-align: top;\n",
              "    }\n",
              "\n",
              "    .dataframe thead th {\n",
              "        text-align: right;\n",
              "    }\n",
              "</style>\n",
              "<table border=\"1\" class=\"dataframe\">\n",
              "  <thead>\n",
              "    <tr style=\"text-align: right;\">\n",
              "      <th></th>\n",
              "      <th>00</th>\n",
              "      <th>000</th>\n",
              "      <th>000th</th>\n",
              "      <th>006</th>\n",
              "      <th>06</th>\n",
              "      <th>10</th>\n",
              "      <th>100</th>\n",
              "      <th>101</th>\n",
              "      <th>102</th>\n",
              "      <th>105</th>\n",
              "      <th>108</th>\n",
              "      <th>10817</th>\n",
              "      <th>10818</th>\n",
              "      <th>10819</th>\n",
              "      <th>10820</th>\n",
              "      <th>10821</th>\n",
              "      <th>10822</th>\n",
              "      <th>10823</th>\n",
              "      <th>10824</th>\n",
              "      <th>10825</th>\n",
              "      <th>10826</th>\n",
              "      <th>10827</th>\n",
              "      <th>10828</th>\n",
              "      <th>10829</th>\n",
              "      <th>10830</th>\n",
              "      <th>10831</th>\n",
              "      <th>10832</th>\n",
              "      <th>10929</th>\n",
              "      <th>10k</th>\n",
              "      <th>10lb</th>\n",
              "      <th>10p</th>\n",
              "      <th>10th</th>\n",
              "      <th>10x10</th>\n",
              "      <th>11</th>\n",
              "      <th>110</th>\n",
              "      <th>11046</th>\n",
              "      <th>11047</th>\n",
              "      <th>11048</th>\n",
              "      <th>11049</th>\n",
              "      <th>11050</th>\n",
              "      <th>...</th>\n",
              "      <th>zhuangzi</th>\n",
              "      <th>zi</th>\n",
              "      <th>zidane</th>\n",
              "      <th>zig</th>\n",
              "      <th>ziglar</th>\n",
              "      <th>zillion</th>\n",
              "      <th>zillions</th>\n",
              "      <th>zimbabwe</th>\n",
              "      <th>zimbabwean</th>\n",
              "      <th>zimbardo</th>\n",
              "      <th>zimmer</th>\n",
              "      <th>zinedine</th>\n",
              "      <th>zionism</th>\n",
              "      <th>zip</th>\n",
              "      <th>ziploc</th>\n",
              "      <th>zipper</th>\n",
              "      <th>zipping</th>\n",
              "      <th>zips</th>\n",
              "      <th>zit</th>\n",
              "      <th>ziyi</th>\n",
              "      <th>zodiac</th>\n",
              "      <th>zoe</th>\n",
              "      <th>zoey</th>\n",
              "      <th>zola</th>\n",
              "      <th>zombie</th>\n",
              "      <th>zombies</th>\n",
              "      <th>zone</th>\n",
              "      <th>zones</th>\n",
              "      <th>zoo</th>\n",
              "      <th>zooey</th>\n",
              "      <th>zookeeper</th>\n",
              "      <th>zoology</th>\n",
              "      <th>zoom</th>\n",
              "      <th>zora</th>\n",
              "      <th>zucchini</th>\n",
              "      <th>zuckerberg</th>\n",
              "      <th>zuckerman</th>\n",
              "      <th>zuniga</th>\n",
              "      <th>zurich</th>\n",
              "      <th>zwick</th>\n",
              "    </tr>\n",
              "  </thead>\n",
              "  <tbody>\n",
              "    <tr>\n",
              "      <th>Frq</th>\n",
              "      <td>0.000462</td>\n",
              "      <td>0.004901</td>\n",
              "      <td>0.000046</td>\n",
              "      <td>0.000046</td>\n",
              "      <td>0.000046</td>\n",
              "      <td>0.008323</td>\n",
              "      <td>0.004439</td>\n",
              "      <td>0.000139</td>\n",
              "      <td>0.000046</td>\n",
              "      <td>0.000092</td>\n",
              "      <td>0.000046</td>\n",
              "      <td>0.000046</td>\n",
              "      <td>0.000046</td>\n",
              "      <td>0.000046</td>\n",
              "      <td>0.000046</td>\n",
              "      <td>0.000046</td>\n",
              "      <td>0.000046</td>\n",
              "      <td>0.000046</td>\n",
              "      <td>0.000046</td>\n",
              "      <td>0.000046</td>\n",
              "      <td>0.000046</td>\n",
              "      <td>0.000046</td>\n",
              "      <td>0.000046</td>\n",
              "      <td>0.000046</td>\n",
              "      <td>0.000046</td>\n",
              "      <td>0.000046</td>\n",
              "      <td>0.000046</td>\n",
              "      <td>0.000046</td>\n",
              "      <td>0.000046</td>\n",
              "      <td>0.000046</td>\n",
              "      <td>0.000046</td>\n",
              "      <td>0.000139</td>\n",
              "      <td>0.000046</td>\n",
              "      <td>0.003514</td>\n",
              "      <td>0.000092</td>\n",
              "      <td>0.000046</td>\n",
              "      <td>0.000046</td>\n",
              "      <td>0.000046</td>\n",
              "      <td>0.000046</td>\n",
              "      <td>0.000046</td>\n",
              "      <td>...</td>\n",
              "      <td>0.000046</td>\n",
              "      <td>0.000046</td>\n",
              "      <td>0.000046</td>\n",
              "      <td>0.000046</td>\n",
              "      <td>0.000046</td>\n",
              "      <td>0.000092</td>\n",
              "      <td>0.000092</td>\n",
              "      <td>0.000046</td>\n",
              "      <td>0.000046</td>\n",
              "      <td>0.000092</td>\n",
              "      <td>0.000046</td>\n",
              "      <td>0.000046</td>\n",
              "      <td>0.000046</td>\n",
              "      <td>0.000046</td>\n",
              "      <td>0.000046</td>\n",
              "      <td>0.000046</td>\n",
              "      <td>0.000046</td>\n",
              "      <td>0.000046</td>\n",
              "      <td>0.000139</td>\n",
              "      <td>0.000046</td>\n",
              "      <td>0.000046</td>\n",
              "      <td>0.000046</td>\n",
              "      <td>0.000046</td>\n",
              "      <td>0.000139</td>\n",
              "      <td>0.000277</td>\n",
              "      <td>0.000046</td>\n",
              "      <td>0.001248</td>\n",
              "      <td>0.000139</td>\n",
              "      <td>0.000324</td>\n",
              "      <td>0.000046</td>\n",
              "      <td>0.000092</td>\n",
              "      <td>0.000046</td>\n",
              "      <td>0.000046</td>\n",
              "      <td>0.000046</td>\n",
              "      <td>0.000046</td>\n",
              "      <td>0.000139</td>\n",
              "      <td>0.000046</td>\n",
              "      <td>0.000046</td>\n",
              "      <td>0.000046</td>\n",
              "      <td>0.000046</td>\n",
              "    </tr>\n",
              "  </tbody>\n",
              "</table>\n",
              "<p>1 rows × 36872 columns</p>\n",
              "</div>"
            ],
            "text/plain": [
              "           00       000     000th  ...    zuniga    zurich     zwick\n",
              "Frq  0.000462  0.004901  0.000046  ...  0.000046  0.000046  0.000046\n",
              "\n",
              "[1 rows x 36872 columns]"
            ]
          },
          "metadata": {
            "tags": []
          },
          "execution_count": 11
        }
      ]
    },
    {
      "cell_type": "code",
      "metadata": {
        "id": "0FFxe9vC2PUd"
      },
      "source": [
        "movText_terms = pd.DataFrame(tfidf_document_term_matrix_wO_stopwords.loc['Frq'])\n",
        "#remove zero values, and get meaningful values\n",
        "kCommonTerms = movText_terms.loc[(movText_terms!=0).any(1)].Frq.sort_values(ascending=False)"
      ],
      "execution_count": null,
      "outputs": []
    },
    {
      "cell_type": "code",
      "metadata": {
        "colab": {
          "base_uri": "https://localhost:8080/"
        },
        "id": "rYuIqjqyC5ab",
        "outputId": "1ab258db-085b-497b-a292-861a22e10742"
      },
      "source": [
        "print(kCommonTerms.head(50))"
      ],
      "execution_count": null,
      "outputs": [
        {
          "output_type": "stream",
          "text": [
            "people        0.280528\n",
            "life          0.239931\n",
            "like          0.213852\n",
            "love          0.184861\n",
            "think         0.183335\n",
            "don           0.183196\n",
            "good          0.176446\n",
            "just          0.159522\n",
            "know          0.142923\n",
            "great         0.138854\n",
            "man           0.129699\n",
            "time          0.123873\n",
            "make          0.122763\n",
            "world         0.121468\n",
            "really        0.121283\n",
            "ve            0.119156\n",
            "men           0.118139\n",
            "things        0.116798\n",
            "want          0.114209\n",
            "best          0.107273\n",
            "god           0.106394\n",
            "way           0.102880\n",
            "death         0.095159\n",
            "family        0.093494\n",
            "work          0.092847\n",
            "money         0.091552\n",
            "thing         0.090905\n",
            "art           0.087714\n",
            "hope          0.087575\n",
            "government    0.086928\n",
            "experience    0.086373\n",
            "change        0.085911\n",
            "fear          0.084015\n",
            "business      0.083460\n",
            "going         0.082720\n",
            "education     0.081472\n",
            "future        0.081333\n",
            "freedom       0.079068\n",
            "health        0.076709\n",
            "lot           0.075738\n",
            "home          0.075415\n",
            "faith         0.075184\n",
            "knowledge     0.074675\n",
            "age           0.073565\n",
            "beauty        0.073103\n",
            "history       0.067924\n",
            "happiness     0.067092\n",
            "say           0.066491\n",
            "amazing       0.065381\n",
            "learning      0.065335\n",
            "Name: Frq, dtype: float64\n"
          ],
          "name": "stdout"
        }
      ]
    },
    {
      "cell_type": "code",
      "metadata": {
        "colab": {
          "base_uri": "https://localhost:8080/"
        },
        "id": "itkLdn5MC5U0",
        "outputId": "95b96f7b-4bfe-443d-b340-f2a0684aba55"
      },
      "source": [
        "print(kCommonTerms.tail(50))"
      ],
      "execution_count": null,
      "outputs": [
        {
          "output_type": "stream",
          "text": [
            "gosdin           0.000046\n",
            "gosman           0.000046\n",
            "gosp             0.000046\n",
            "gospels          0.000046\n",
            "goth             0.000046\n",
            "gowns            0.000046\n",
            "grae             0.000046\n",
            "grabs            0.000046\n",
            "graceless        0.000046\n",
            "gracelessness    0.000046\n",
            "gracie           0.000046\n",
            "gradation        0.000046\n",
            "graders          0.000046\n",
            "gratefully       0.000046\n",
            "gratify          0.000046\n",
            "grisly           0.000046\n",
            "grievously       0.000046\n",
            "grenade          0.000046\n",
            "grenville        0.000046\n",
            "greta            0.000046\n",
            "gretel           0.000046\n",
            "grier            0.000046\n",
            "grierson         0.000046\n",
            "griffey          0.000046\n",
            "gregarious       0.000046\n",
            "griffin          0.000046\n",
            "griffiths        0.000046\n",
            "grills           0.000046\n",
            "gripe            0.000046\n",
            "gripped          0.000046\n",
            "grippers         0.000046\n",
            "greiman          0.000046\n",
            "greeter          0.000046\n",
            "grauman          0.000046\n",
            "greasy           0.000046\n",
            "gravel           0.000046\n",
            "graven           0.000046\n",
            "graveyard        0.000046\n",
            "graynor          0.000046\n",
            "graze            0.000046\n",
            "gre              0.000046\n",
            "greco            0.000046\n",
            "greeted          0.000046\n",
            "greenblatt       0.000046\n",
            "greener          0.000046\n",
            "greenlit         0.000046\n",
            "greenpeace       0.000046\n",
            "greenville       0.000046\n",
            "greenwood        0.000046\n",
            "gooding          0.000046\n",
            "Name: Frq, dtype: float64\n"
          ],
          "name": "stdout"
        }
      ]
    }
  ]
}