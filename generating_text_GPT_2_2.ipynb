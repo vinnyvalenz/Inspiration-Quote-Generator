{
  "nbformat": 4,
  "nbformat_minor": 0,
  "metadata": {
    "colab": {
      "name": "generating_text_GPT_2-2.ipynb",
      "provenance": [],
      "collapsed_sections": [],
      "include_colab_link": true
    },
    "kernelspec": {
      "name": "python3",
      "display_name": "Python 3"
    },
    "language_info": {
      "name": "python"
    }
  },
  "cells": [
    {
      "cell_type": "markdown",
      "metadata": {
        "id": "view-in-github",
        "colab_type": "text"
      },
      "source": [
        "<a href=\"https://colab.research.google.com/github/vinnyvalenz/Inspirational-Quote-Generator/blob/JCalderonChavez/generating_text_GPT_2_2.ipynb\" target=\"_parent\"><img src=\"https://colab.research.google.com/assets/colab-badge.svg\" alt=\"Open In Colab\"/></a>"
      ]
    },
    {
      "cell_type": "markdown",
      "metadata": {
        "id": "jEj4XiSIOMW_"
      },
      "source": [
        "Here are the different libraries that Max Woolf uses to load a pre saved trained GPT-2 from google drive and generate text\n",
        "\n",
        "\n",
        "gpt_2_simple and it functions is created by Max Woolf (@minimaxir) Licensed by MIT"
      ]
    },
    {
      "cell_type": "code",
      "metadata": {
        "colab": {
          "base_uri": "https://localhost:8080/"
        },
        "id": "Lg0WvRB1N7U5",
        "outputId": "eacc93fe-37bc-4d3f-8bd3-1184437e69dc"
      },
      "source": [
        "%tensorflow_version 1.x\n",
        "!pip install -q gpt-2-simple\n",
        "import gpt_2_simple as gpt2\n",
        "from datetime import datetime\n",
        "from google.colab import files"
      ],
      "execution_count": null,
      "outputs": [
        {
          "output_type": "stream",
          "text": [
            "TensorFlow 1.x selected.\n",
            "  Building wheel for gpt-2-simple (setup.py) ... \u001b[?25l\u001b[?25hdone\n",
            "WARNING:tensorflow:\n",
            "The TensorFlow contrib module will not be included in TensorFlow 2.0.\n",
            "For more information, please see:\n",
            "  * https://github.com/tensorflow/community/blob/master/rfcs/20180907-contrib-sunset.md\n",
            "  * https://github.com/tensorflow/addons\n",
            "  * https://github.com/tensorflow/io (for I/O related ops)\n",
            "If you depend on functionality not listed there, please file an issue.\n",
            "\n"
          ],
          "name": "stdout"
        }
      ]
    },
    {
      "cell_type": "code",
      "metadata": {
        "colab": {
          "base_uri": "https://localhost:8080/"
        },
        "id": "mpcJM1ZEN-Pi",
        "outputId": "9d0dc57c-277e-4963-dbf1-8a69c985f6cd"
      },
      "source": [
        "from google.colab import drive\n",
        "drive.mount('/content/drive')"
      ],
      "execution_count": null,
      "outputs": [
        {
          "output_type": "stream",
          "text": [
            "Mounted at /content/drive\n"
          ],
          "name": "stdout"
        }
      ]
    },
    {
      "cell_type": "markdown",
      "metadata": {
        "id": "p1vgQXe1OHTV"
      },
      "source": [
        "Loading my GPT-2 Model from google drive\n"
      ]
    },
    {
      "cell_type": "code",
      "metadata": {
        "id": "73JOWW4UNm_U"
      },
      "source": [
        "gpt2.copy_checkpoint_from_gdrive(run_name='run3')"
      ],
      "execution_count": null,
      "outputs": []
    },
    {
      "cell_type": "code",
      "metadata": {
        "colab": {
          "base_uri": "https://localhost:8080/"
        },
        "id": "75PD0urE3XoZ",
        "outputId": "d47c62a5-478c-4707-aacd-114f0858f8cb"
      },
      "source": [
        "sess = gpt2.start_tf_sess()\n",
        "gpt2.load_gpt2(sess, run_name='run3')"
      ],
      "execution_count": null,
      "outputs": [
        {
          "output_type": "stream",
          "text": [
            "Loading checkpoint checkpoint/run3/model-2000\n",
            "INFO:tensorflow:Restoring parameters from checkpoint/run3/model-2000\n"
          ],
          "name": "stdout"
        }
      ]
    },
    {
      "cell_type": "markdown",
      "metadata": {
        "id": "rj1WyHZYQF6A"
      },
      "source": [
        "Random Text Generations by GPT-2"
      ]
    },
    {
      "cell_type": "code",
      "metadata": {
        "colab": {
          "base_uri": "https://localhost:8080/"
        },
        "id": "KRo1EW3vQBJm",
        "outputId": "d55c9f39-9efb-4e84-a831-faf6c4d4f927"
      },
      "source": [
        "gpt2.generate(sess,\n",
        "              length=100,\n",
        "              temperature=0.7,\n",
        "              run_name='run3'\n",
        "              )"
      ],
      "execution_count": null,
      "outputs": [
        {
          "output_type": "stream",
          "text": [
            "I remember looking at the '70s and the '80s with my parents and thinking, 'I want to get away from here.'\n",
            "And then I was like, 'Oh, God, what am I going to do? I don't know.'\n",
            "Then I was like, 'Oh, God, what am I going to do?'\n",
            "And I worked at it for a long time.\n",
            "I want to do a third movie.\n",
            "I think you will get a few people thinking\n"
          ],
          "name": "stdout"
        }
      ]
    },
    {
      "cell_type": "code",
      "metadata": {
        "colab": {
          "base_uri": "https://localhost:8080/"
        },
        "id": "Z2Z9yOqnQBBA",
        "outputId": "42617448-27d7-49e8-83ae-0593d01926a4"
      },
      "source": [
        "gpt2.generate(sess,\n",
        "              length=100,\n",
        "              temperature=0.7,\n",
        "              run_name='run3'\n",
        "              )"
      ],
      "execution_count": null,
      "outputs": [
        {
          "output_type": "stream",
          "text": [
            "What was intended as just a first step\n",
            "into the music business has\n",
            "become an institution in its own right.\n",
            "It was a fad that was a fad, and we\n",
            "never thought it would be so\n",
            "comprehensive.\n",
            "I'm not going to tell you how to be\n",
            "a success, but I think you have to\n",
            "have a passion and a drive and a\n",
            "love of music.\n",
            "You don't just go around and kill\n",
            "yourself to get\n"
          ],
          "name": "stdout"
        }
      ]
    },
    {
      "cell_type": "code",
      "metadata": {
        "colab": {
          "base_uri": "https://localhost:8080/"
        },
        "id": "_Rx5d6cVQA3K",
        "outputId": "bfcb7868-b4f6-44cc-999d-b7678201f12a"
      },
      "source": [
        "gpt2.generate(sess,\n",
        "              length=100,\n",
        "              temperature=0.7,\n",
        "              run_name='run3'\n",
        "              )"
      ],
      "execution_count": null,
      "outputs": [
        {
          "output_type": "stream",
          "text": [
            "I want my kids to have a playpen and a playroom and a playgroup.\n",
            "I want them to be able to be themselves.\n",
            "That's how you grow up.\n",
            "Manhattan, play the piano.\n",
            "That's where I want to be, that's where I want to be.\n",
            "But I'm not going to stop playing.\n",
            "I want to be able to be around my family, if not my kids, then my friends, my dog.\n",
            "My family,\n"
          ],
          "name": "stdout"
        }
      ]
    },
    {
      "cell_type": "markdown",
      "metadata": {
        "id": "Eh5bMx1PO3ll"
      },
      "source": [
        "The following Generations will have GPT-2 start will words that are associated to the most common themes in the dataset"
      ]
    },
    {
      "cell_type": "markdown",
      "metadata": {
        "id": "0TPoLl1kPs31"
      },
      "source": [
        "This is simalar to how Max Woolf preforms text generations with GPT-2\n",
        "\n",
        "\n"
      ]
    },
    {
      "cell_type": "code",
      "metadata": {
        "id": "TZ_TmKv0N4Kd",
        "colab": {
          "base_uri": "https://localhost:8080/"
        },
        "outputId": "e110625f-2275-4c3f-a9d3-88de2dfb4995"
      },
      "source": [
        "gpt2.generate(sess,\n",
        "              length=100,\n",
        "              temperature=0.7,\n",
        "              prefix=\"God is\",\n",
        "              run_name='run3'\n",
        "              )"
      ],
      "execution_count": null,
      "outputs": [
        {
          "output_type": "stream",
          "text": [
            "God is not\n",
            "different from God.\n",
            "I can't believe I'm on a show called\n",
            "'The Middle' anymore. 'I'm not a\n",
            "corner-bender. I'm not a big\n",
            "cave man. I'm a big guy. I'm\n",
            "a guy who's going to sit on\n",
            "the bench. I'm not going to sit on\n",
            "the bench and put on a cape.\n",
            "I'm not a big guy. I'm a big\n",
            "guy. I'm a\n"
          ],
          "name": "stdout"
        }
      ]
    },
    {
      "cell_type": "code",
      "metadata": {
        "id": "tBE7LJjgN4Fs",
        "colab": {
          "base_uri": "https://localhost:8080/"
        },
        "outputId": "d7dd3bdf-5940-46f4-f827-dd14cfa15fa5"
      },
      "source": [
        "gpt2.generate(sess,\n",
        "              length=100,\n",
        "              temperature=0.7,\n",
        "              prefix=\"The family is\",\n",
        "              run_name='run3'\n",
        "              )"
      ],
      "execution_count": null,
      "outputs": [
        {
          "output_type": "stream",
          "text": [
            "The family is the family, the states the states, the federal government the federal government.\n",
            "I think they were getting so frustrated.\n",
            "They were angry about the culture and the\n",
            "government being in the way when it\n",
            "was time to go to work.\n",
            "I don't think there's any question\n",
            "about the fact that the government\n",
            "wasn't very interested in this.\n",
            "I have been very clear to the\n",
            "American people, and I'm the\n",
            "president of the United States, that\n",
            "the\n"
          ],
          "name": "stdout"
        }
      ]
    },
    {
      "cell_type": "code",
      "metadata": {
        "id": "-dnfJLduN4Ck",
        "colab": {
          "base_uri": "https://localhost:8080/"
        },
        "outputId": "0da3cefb-f6dc-4366-b509-11cf89d7e10c"
      },
      "source": [
        "gpt2.generate(sess,\n",
        "              length=100,\n",
        "              temperature=0.7,\n",
        "              prefix=\"Marriage is\",\n",
        "              run_name='run3'\n",
        "              )"
      ],
      "execution_count": null,
      "outputs": [
        {
          "output_type": "stream",
          "text": [
            "Marriage is not a matter of being\n",
            "married. It is a matter of being\n",
            "good at it.\n",
            "I think attitudes about sex have\n",
            "stopped changing. When I was\n",
            "younger, I thought I was straight.\n",
            "I've always felt like the single\n",
            "person in a marriage, and that's\n",
            "been a problem for me.\n",
            "I think you should be able to have\n",
            "your own private life and your\n",
            "life is your own business, and\n",
            "you should be able to do what\n"
          ],
          "name": "stdout"
        }
      ]
    },
    {
      "cell_type": "code",
      "metadata": {
        "id": "73NPtoPUN3-d",
        "colab": {
          "base_uri": "https://localhost:8080/"
        },
        "outputId": "76f8b796-485c-4389-e1ab-40760f1e6771"
      },
      "source": [
        "gpt2.generate(sess,\n",
        "              length=100,\n",
        "              temperature=0.7,\n",
        "              prefix=\"Home is\",\n",
        "              run_name='run3'\n",
        "              )"
      ],
      "execution_count": null,
      "outputs": [
        {
          "output_type": "stream",
          "text": [
            "Home is all you know.\n",
            "If you don't want to be found,\n",
            "you should never, ever, ever, ever\n",
            "come home.\n",
            "My family feels it's important to\n",
            "have the right to live. They're\n",
            "very proud of me, and I'm proud\n",
            "of my family.\n",
            "If I can find a job, I will go back and\n",
            "do as much of my work as I\n",
            "can. I will spend more time\n",
            "studying and teaching. I will spend\n",
            "\n"
          ],
          "name": "stdout"
        }
      ]
    },
    {
      "cell_type": "code",
      "metadata": {
        "id": "mIDxRoudN36l",
        "colab": {
          "base_uri": "https://localhost:8080/"
        },
        "outputId": "27b83d91-cd6a-45cf-ddad-80d5c7b5217e"
      },
      "source": [
        "gpt2.generate(sess,\n",
        "              length=100,\n",
        "              temperature=0.7,\n",
        "              prefix=\"Mom is\",\n",
        "              run_name='run3'\n",
        "              )"
      ],
      "execution_count": null,
      "outputs": [
        {
          "output_type": "stream",
          "text": [
            "Mom is a bed,\n",
            "and I'm a chair.\n",
            "The ladies of this house are\n",
            "as good as the men. But I\n",
            "think of them as a kind of\n",
            "assistant, and I get the best of\n",
            "them.\n",
            "I've always had an appreciation\n",
            "of the human spirit and what\n",
            "can happen when you are with\n",
            "a group of people who are\n",
            "interested in the same things.\n",
            "I have a love of music, which\n",
            "happens to be a great\n",
            "\n"
          ],
          "name": "stdout"
        }
      ]
    },
    {
      "cell_type": "code",
      "metadata": {
        "id": "iNTvqrXdN33F",
        "colab": {
          "base_uri": "https://localhost:8080/"
        },
        "outputId": "bf957ee9-6b02-4fd0-ad5d-fc398c2ce40c"
      },
      "source": [
        "gpt2.generate(sess,\n",
        "              length=100,\n",
        "              temperature=0.7,\n",
        "              prefix=\"Fear is\",\n",
        "              run_name='run3'\n",
        "              )"
      ],
      "execution_count": null,
      "outputs": [
        {
          "output_type": "stream",
          "text": [
            "Fear is not the absence of things, it is the absence of things;\n",
            "and it is the absence of the sinner,\n",
            "when he is saved, that will make\n",
            "him happy.\n",
            "I think there are truly great love\n",
            "and great compassion. In prayer I\n",
            "talk about love and compassion.\n",
            "But I've also found that if we're\n",
            "talking about love, it's not right to\n",
            "say we try to be better than we are.\n",
            "Love is not something you'll find in\n"
          ],
          "name": "stdout"
        }
      ]
    },
    {
      "cell_type": "code",
      "metadata": {
        "colab": {
          "base_uri": "https://localhost:8080/"
        },
        "id": "reh9vva4PkwG",
        "outputId": "9e718ba5-1e84-4a85-b691-bc0a0aca6b3c"
      },
      "source": [
        "gpt2.generate(sess,\n",
        "              length=100,\n",
        "              temperature=0.7,\n",
        "              prefix=\"Life is\",\n",
        "              run_name='run3'\n",
        "              )"
      ],
      "execution_count": null,
      "outputs": [
        {
          "output_type": "stream",
          "text": [
            "Life is a lot like a house,\n",
            "with a lot of maintenance.\n",
            "Americans have a tendency to\n",
            "overvalue the value of\n",
            "education. The truth is that\n",
            "education is the most vital\n",
            "disease of our time.\n",
            "The pain of death is the pain\n",
            "of life.\n",
            "I don't think I've ever had a\n",
            "relationship with a man that I\n",
            "wasn't interested in. It was\n",
            "sometimes boring, but I was\n",
            "interested in him.\n",
            "Life is\n"
          ],
          "name": "stdout"
        }
      ]
    },
    {
      "cell_type": "code",
      "metadata": {
        "colab": {
          "base_uri": "https://localhost:8080/"
        },
        "id": "wryMbir-QQcP",
        "outputId": "2c3572eb-9ad0-4651-9e4b-63265040589f"
      },
      "source": [
        "gpt2.generate(sess,\n",
        "              length=100,\n",
        "              temperature=0.7,\n",
        "              prefix=\"Love is\",\n",
        "              run_name='run3'\n",
        "              )"
      ],
      "execution_count": null,
      "outputs": [
        {
          "output_type": "stream",
          "text": [
            "Love is the life of the soul,\n",
            "through which we can perceive\n",
            "many things, and through\n",
            "which we can enjoy\n",
            "many things.\n",
            "People always think I'm an\n",
            "anti-hero, and if you're a\n",
            "major movie star, you're\n",
            "somewhat a martyr. I've\n",
            "never been that.\n",
            "\n",
            "If you've ever seen a species\n",
            "that's been completely eliminated\n",
            "by pleasure, then you've seen\n",
            "them.\n",
            "I'm a very good friend with a\n"
          ],
          "name": "stdout"
        }
      ]
    },
    {
      "cell_type": "markdown",
      "metadata": {
        "id": "jWwaDBSQQPW-"
      },
      "source": [
        "Link to Max Woolf article: https://minimaxir.com/2019/09/howto-gpt2/"
      ]
    }
  ]
}